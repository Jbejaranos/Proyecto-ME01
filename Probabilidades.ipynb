{
  "nbformat": 4,
  "nbformat_minor": 0,
  "metadata": {
    "colab": {
      "provenance": []
    },
    "kernelspec": {
      "name": "python3",
      "display_name": "Python 3"
    },
    "language_info": {
      "name": "python"
    }
  },
  "cells": [
    {
      "cell_type": "markdown",
      "source": [
        "# **Se importan las dependencias requeridas**"
      ],
      "metadata": {
        "id": "p8vf_ixxbN-g"
      }
    },
    {
      "cell_type": "code",
      "execution_count": 2,
      "metadata": {
        "id": "mRtCHCa9ZOuI"
      },
      "outputs": [],
      "source": [
        "from collections import Counter\n",
        "import pandas as pd"
      ]
    },
    {
      "cell_type": "markdown",
      "source": [
        "# **Se define la función que calcula las probabilidades de aparcición de cada caracter**"
      ],
      "metadata": {
        "id": "7SKmdP5ebUOl"
      }
    },
    {
      "cell_type": "code",
      "source": [
        "def calcular_probabilidades(texto):\n",
        "    # Contar la frecuencia de cada símbolo en el texto\n",
        "    frecuencias = Counter(texto)\n",
        "\n",
        "    # Calcular la longitud del texto\n",
        "    longitud_texto = len(texto)\n",
        "\n",
        "    # Crear el diccionario de probabilidades\n",
        "    probabilidades = {}\n",
        "\n",
        "    for simbolo, frecuencia in frecuencias.items():\n",
        "        # Calcular la probabilidad dividiendo la frecuencia entre la longitud del texto\n",
        "        probabilidad = frecuencia / longitud_texto\n",
        "\n",
        "        # Agregar la probabilidad al diccionario\n",
        "        probabilidades[simbolo] = probabilidad\n",
        "\n",
        "    return probabilidades"
      ],
      "metadata": {
        "id": "Su2nxpStZcNW"
      },
      "execution_count": 3,
      "outputs": []
    },
    {
      "cell_type": "markdown",
      "source": [
        "# **Se carga un dataframe con noticias obtenidas de https://www.lasillavacia.com**"
      ],
      "metadata": {
        "id": "OuQclRMsa-5X"
      }
    },
    {
      "cell_type": "code",
      "source": [
        "df = pd.read_excel('./datos.xlsx')\n",
        "df"
      ],
      "metadata": {
        "colab": {
          "base_uri": "https://localhost:8080/",
          "height": 424
        },
        "id": "qlmkLLUNaOz1",
        "outputId": "043b0804-efec-477c-a876-21500ebf5462"
      },
      "execution_count": 6,
      "outputs": [
        {
          "output_type": "execute_result",
          "data": {
            "text/plain": [
              "                                                  Link  \\\n",
              "0    https://www.lasillavacia.com/historias/silla-n...   \n",
              "1    https://www.lasillavacia.com/historias/silla-n...   \n",
              "2    https://www.lasillavacia.com/historias/silla-n...   \n",
              "3    https://www.lasillavacia.com/historias/silla-n...   \n",
              "4    https://www.lasillavacia.com/la-silla-vacia/op...   \n",
              "..                                                 ...   \n",
              "649  https://www.lasillavacia.com/la-silla-vacia/op...   \n",
              "650  https://www.lasillavacia.com/la-silla-vacia/op...   \n",
              "651  https://www.lasillavacia.com/historias/histori...   \n",
              "652  https://www.lasillavacia.com/historias/silla-n...   \n",
              "653  https://www.lasillavacia.com/historias/silla-n...   \n",
              "\n",
              "                                                 Title  \\\n",
              "0        El declive de un exparamilitar en la política   \n",
              "1      Los escenarios post escándalo Sarabia-Benedetti   \n",
              "2    Acuerdos de Cuba con el ELN: cese al fuego his...   \n",
              "3    Sin Sarabia, Petro se atrinchera en leales com...   \n",
              "4                           La gobernabilidad de Petro   \n",
              "..                                                 ...   \n",
              "649                                      Temperamento    \n",
              "650    El presidente twittero y los problemas del país   \n",
              "651  Basuras, plaga de ratas y ventanas rotas en Bo...   \n",
              "652  El PND crea y mantiene fondos que aumentan el ...   \n",
              "653  Es falso que la prensa acuñó el término paz to...   \n",
              "\n",
              "                                                Notice  \n",
              "0    En el Pueblito de los Andes, corregimiento de ...  \n",
              "1    Comencemos por el principio. Nadie va a darle ...  \n",
              "2    El presidente Gustavo Petro y el primer comand...  \n",
              "3    El ministro del Interior, Luis Fernando Velasc...  \n",
              "4    En la que se suponía sería la peor semana para...  \n",
              "..                                                 ...  \n",
              "649  Foto: Juan Carlos Hernández\\nLa semana pasada,...  \n",
              "650  Son muchos los problemas y desafíos de Colombi...  \n",
              "651  En las últimas semanas circuló en Twitter un i...  \n",
              "652  Gustavo Petro y Jorge Iván González, director ...  \n",
              "653  Hoy el presidente Gustavo Petro \\n con los Gen...  \n",
              "\n",
              "[654 rows x 3 columns]"
            ],
            "text/html": [
              "\n",
              "  <div id=\"df-1a646447-3730-43ae-95a1-0f7904d27dde\">\n",
              "    <div class=\"colab-df-container\">\n",
              "      <div>\n",
              "<style scoped>\n",
              "    .dataframe tbody tr th:only-of-type {\n",
              "        vertical-align: middle;\n",
              "    }\n",
              "\n",
              "    .dataframe tbody tr th {\n",
              "        vertical-align: top;\n",
              "    }\n",
              "\n",
              "    .dataframe thead th {\n",
              "        text-align: right;\n",
              "    }\n",
              "</style>\n",
              "<table border=\"1\" class=\"dataframe\">\n",
              "  <thead>\n",
              "    <tr style=\"text-align: right;\">\n",
              "      <th></th>\n",
              "      <th>Link</th>\n",
              "      <th>Title</th>\n",
              "      <th>Notice</th>\n",
              "    </tr>\n",
              "  </thead>\n",
              "  <tbody>\n",
              "    <tr>\n",
              "      <th>0</th>\n",
              "      <td>https://www.lasillavacia.com/historias/silla-n...</td>\n",
              "      <td>El declive de un exparamilitar en la política</td>\n",
              "      <td>En el Pueblito de los Andes, corregimiento de ...</td>\n",
              "    </tr>\n",
              "    <tr>\n",
              "      <th>1</th>\n",
              "      <td>https://www.lasillavacia.com/historias/silla-n...</td>\n",
              "      <td>Los escenarios post escándalo Sarabia-Benedetti</td>\n",
              "      <td>Comencemos por el principio. Nadie va a darle ...</td>\n",
              "    </tr>\n",
              "    <tr>\n",
              "      <th>2</th>\n",
              "      <td>https://www.lasillavacia.com/historias/silla-n...</td>\n",
              "      <td>Acuerdos de Cuba con el ELN: cese al fuego his...</td>\n",
              "      <td>El presidente Gustavo Petro y el primer comand...</td>\n",
              "    </tr>\n",
              "    <tr>\n",
              "      <th>3</th>\n",
              "      <td>https://www.lasillavacia.com/historias/silla-n...</td>\n",
              "      <td>Sin Sarabia, Petro se atrinchera en leales com...</td>\n",
              "      <td>El ministro del Interior, Luis Fernando Velasc...</td>\n",
              "    </tr>\n",
              "    <tr>\n",
              "      <th>4</th>\n",
              "      <td>https://www.lasillavacia.com/la-silla-vacia/op...</td>\n",
              "      <td>La gobernabilidad de Petro</td>\n",
              "      <td>En la que se suponía sería la peor semana para...</td>\n",
              "    </tr>\n",
              "    <tr>\n",
              "      <th>...</th>\n",
              "      <td>...</td>\n",
              "      <td>...</td>\n",
              "      <td>...</td>\n",
              "    </tr>\n",
              "    <tr>\n",
              "      <th>649</th>\n",
              "      <td>https://www.lasillavacia.com/la-silla-vacia/op...</td>\n",
              "      <td>Temperamento</td>\n",
              "      <td>Foto: Juan Carlos Hernández\\nLa semana pasada,...</td>\n",
              "    </tr>\n",
              "    <tr>\n",
              "      <th>650</th>\n",
              "      <td>https://www.lasillavacia.com/la-silla-vacia/op...</td>\n",
              "      <td>El presidente twittero y los problemas del país</td>\n",
              "      <td>Son muchos los problemas y desafíos de Colombi...</td>\n",
              "    </tr>\n",
              "    <tr>\n",
              "      <th>651</th>\n",
              "      <td>https://www.lasillavacia.com/historias/histori...</td>\n",
              "      <td>Basuras, plaga de ratas y ventanas rotas en Bo...</td>\n",
              "      <td>En las últimas semanas circuló en Twitter un i...</td>\n",
              "    </tr>\n",
              "    <tr>\n",
              "      <th>652</th>\n",
              "      <td>https://www.lasillavacia.com/historias/silla-n...</td>\n",
              "      <td>El PND crea y mantiene fondos que aumentan el ...</td>\n",
              "      <td>Gustavo Petro y Jorge Iván González, director ...</td>\n",
              "    </tr>\n",
              "    <tr>\n",
              "      <th>653</th>\n",
              "      <td>https://www.lasillavacia.com/historias/silla-n...</td>\n",
              "      <td>Es falso que la prensa acuñó el término paz to...</td>\n",
              "      <td>Hoy el presidente Gustavo Petro \\n con los Gen...</td>\n",
              "    </tr>\n",
              "  </tbody>\n",
              "</table>\n",
              "<p>654 rows × 3 columns</p>\n",
              "</div>\n",
              "      <button class=\"colab-df-convert\" onclick=\"convertToInteractive('df-1a646447-3730-43ae-95a1-0f7904d27dde')\"\n",
              "              title=\"Convert this dataframe to an interactive table.\"\n",
              "              style=\"display:none;\">\n",
              "        \n",
              "  <svg xmlns=\"http://www.w3.org/2000/svg\" height=\"24px\"viewBox=\"0 0 24 24\"\n",
              "       width=\"24px\">\n",
              "    <path d=\"M0 0h24v24H0V0z\" fill=\"none\"/>\n",
              "    <path d=\"M18.56 5.44l.94 2.06.94-2.06 2.06-.94-2.06-.94-.94-2.06-.94 2.06-2.06.94zm-11 1L8.5 8.5l.94-2.06 2.06-.94-2.06-.94L8.5 2.5l-.94 2.06-2.06.94zm10 10l.94 2.06.94-2.06 2.06-.94-2.06-.94-.94-2.06-.94 2.06-2.06.94z\"/><path d=\"M17.41 7.96l-1.37-1.37c-.4-.4-.92-.59-1.43-.59-.52 0-1.04.2-1.43.59L10.3 9.45l-7.72 7.72c-.78.78-.78 2.05 0 2.83L4 21.41c.39.39.9.59 1.41.59.51 0 1.02-.2 1.41-.59l7.78-7.78 2.81-2.81c.8-.78.8-2.07 0-2.86zM5.41 20L4 18.59l7.72-7.72 1.47 1.35L5.41 20z\"/>\n",
              "  </svg>\n",
              "      </button>\n",
              "      \n",
              "  <style>\n",
              "    .colab-df-container {\n",
              "      display:flex;\n",
              "      flex-wrap:wrap;\n",
              "      gap: 12px;\n",
              "    }\n",
              "\n",
              "    .colab-df-convert {\n",
              "      background-color: #E8F0FE;\n",
              "      border: none;\n",
              "      border-radius: 50%;\n",
              "      cursor: pointer;\n",
              "      display: none;\n",
              "      fill: #1967D2;\n",
              "      height: 32px;\n",
              "      padding: 0 0 0 0;\n",
              "      width: 32px;\n",
              "    }\n",
              "\n",
              "    .colab-df-convert:hover {\n",
              "      background-color: #E2EBFA;\n",
              "      box-shadow: 0px 1px 2px rgba(60, 64, 67, 0.3), 0px 1px 3px 1px rgba(60, 64, 67, 0.15);\n",
              "      fill: #174EA6;\n",
              "    }\n",
              "\n",
              "    [theme=dark] .colab-df-convert {\n",
              "      background-color: #3B4455;\n",
              "      fill: #D2E3FC;\n",
              "    }\n",
              "\n",
              "    [theme=dark] .colab-df-convert:hover {\n",
              "      background-color: #434B5C;\n",
              "      box-shadow: 0px 1px 3px 1px rgba(0, 0, 0, 0.15);\n",
              "      filter: drop-shadow(0px 1px 2px rgba(0, 0, 0, 0.3));\n",
              "      fill: #FFFFFF;\n",
              "    }\n",
              "  </style>\n",
              "\n",
              "      <script>\n",
              "        const buttonEl =\n",
              "          document.querySelector('#df-1a646447-3730-43ae-95a1-0f7904d27dde button.colab-df-convert');\n",
              "        buttonEl.style.display =\n",
              "          google.colab.kernel.accessAllowed ? 'block' : 'none';\n",
              "\n",
              "        async function convertToInteractive(key) {\n",
              "          const element = document.querySelector('#df-1a646447-3730-43ae-95a1-0f7904d27dde');\n",
              "          const dataTable =\n",
              "            await google.colab.kernel.invokeFunction('convertToInteractive',\n",
              "                                                     [key], {});\n",
              "          if (!dataTable) return;\n",
              "\n",
              "          const docLinkHtml = 'Like what you see? Visit the ' +\n",
              "            '<a target=\"_blank\" href=https://colab.research.google.com/notebooks/data_table.ipynb>data table notebook</a>'\n",
              "            + ' to learn more about interactive tables.';\n",
              "          element.innerHTML = '';\n",
              "          dataTable['output_type'] = 'display_data';\n",
              "          await google.colab.output.renderOutput(dataTable, element);\n",
              "          const docLink = document.createElement('div');\n",
              "          docLink.innerHTML = docLinkHtml;\n",
              "          element.appendChild(docLink);\n",
              "        }\n",
              "      </script>\n",
              "    </div>\n",
              "  </div>\n",
              "  "
            ]
          },
          "metadata": {},
          "execution_count": 6
        }
      ]
    },
    {
      "cell_type": "markdown",
      "source": [
        "# **Ejemplo con una cadena sencilla**"
      ],
      "metadata": {
        "id": "u2IQg6zZa4vz"
      }
    },
    {
      "cell_type": "code",
      "source": [
        "texto_ejemplo = \"Hola, mundo!\"\n",
        "diccionario_probabilidades = calcular_probabilidades(texto_ejemplo)\n",
        "print(diccionario_probabilidades)"
      ],
      "metadata": {
        "colab": {
          "base_uri": "https://localhost:8080/"
        },
        "id": "Z2TzALhBZe-v",
        "outputId": "869c226e-9bfe-4637-b046-02204af8bda3"
      },
      "execution_count": 4,
      "outputs": [
        {
          "output_type": "stream",
          "name": "stdout",
          "text": [
            "{'H': 0.08333333333333333, 'o': 0.16666666666666666, 'l': 0.08333333333333333, 'a': 0.08333333333333333, ',': 0.08333333333333333, ' ': 0.08333333333333333, 'm': 0.08333333333333333, 'u': 0.08333333333333333, 'n': 0.08333333333333333, 'd': 0.08333333333333333, '!': 0.08333333333333333}\n"
          ]
        }
      ]
    },
    {
      "cell_type": "markdown",
      "source": [
        "# **Prueba con dataframe**"
      ],
      "metadata": {
        "id": "BRyQrL_da03i"
      }
    },
    {
      "cell_type": "code",
      "source": [
        "diccionario_probabilidades = calcular_probabilidades(df.loc[0].at[\"Notice\"])\n",
        "print(diccionario_probabilidades)"
      ],
      "metadata": {
        "colab": {
          "base_uri": "https://localhost:8080/"
        },
        "id": "oO3Bj9lmam0n",
        "outputId": "26b51c48-9c7d-441d-ae9f-1e8cb75178e8"
      },
      "execution_count": 8,
      "outputs": [
        {
          "output_type": "stream",
          "name": "stdout",
          "text": [
            "{'E': 0.002177463255307567, 'n': 0.053347849755035384, ' ': 0.16875340228633642, 'e': 0.09493739793140991, 'l': 0.0472509526401742, 'P': 0.001633097441480675, 'u': 0.03124659771366358, 'b': 0.008056614044637997, 'i': 0.04409363091997823, 't': 0.03287969515514426, 'o': 0.0668481219379423, 'd': 0.03995645073489385, 's': 0.05138813282525857, 'A': 0.00261295590636908, ',': 0.01241154055525313, 'c': 0.03331518780620577, 'r': 0.04942841589548176, 'g': 0.009363091997822537, 'm': 0.017419706042460535, 'N': 0.001633097441480675, 'v': 0.008709853021230268, 'a': 0.10114316820903647, 'G': 0.0014153511159499183, '(': 0.0008709853021230267, 'M': 0.0027218290691344584, ')': 0.0008709853021230267, 'h': 0.006423516603157322, 'é': 0.0023952095808383233, 'f': 0.004899292324442025, 'B': 0.0033750680457267286, '.': 0.008709853021230268, 'L': 0.001633097441480675, 'z': 0.004354926510615134, 'J': 0.00195971692977681, '“': 0.0027218290691344584, 'C': 0.0017419706042460534, 'p': 0.02416984213391399, '”': 0.00261295590636908, 'x': 0.000979858464888405, 'j': 0.00261295590636908, 'q': 0.006314643440391943, 'S': 0.0011976047904191617, 'ó': 0.00457267283614589, '2': 0.0010887316276537834, '0': 0.00195971692977681, 'F': 0.00065323897659227, 'y': 0.006423516603157322, 'í': 0.008383233532934131, '\\n': 0.003810560696788242, 'H': 0.00043549265106151335, '4': 0.0005443658138268917, 'á': 0.0018508437670114316, 'D': 0.0005443658138268917, 'ú': 0.0010887316276537834, 'K': 0.0005443658138268917, 'k': 0.00043549265106151335, 'ñ': 0.001633097441480675, 'Y': 0.000326619488296135, 'R': 0.0005443658138268917, '\\xa0': 0.000326619488296135, 'I': 0.00043549265106151335, '8': 0.00043549265106151335, '9': 0.0005443658138268917, '1': 0.00065323897659227, 'U': 0.00065323897659227, 'V': 0.00043549265106151335, '‘': 0.000326619488296135, '’': 0.000326619488296135, 'T': 0.00021774632553075667, '7': 0.00010887316276537834, '5': 0.00010887316276537834}\n"
          ]
        }
      ]
    }
  ]
}